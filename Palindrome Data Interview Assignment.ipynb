{
 "cells": [
  {
   "cell_type": "markdown",
   "id": "5fd50a3a",
   "metadata": {},
   "source": [
    "# Palindrome Data Interview Assignment\n",
    "## Matthew Swanevelder\n",
    "\n",
    "## ---------------------------------------------------------------------------------------------------"
   ]
  },
  {
   "cell_type": "markdown",
   "id": "653ff467",
   "metadata": {},
   "source": [
    "### Data Summary "
   ]
  },
  {
   "cell_type": "code",
   "execution_count": 181,
   "id": "9d2094d9",
   "metadata": {},
   "outputs": [
    {
     "name": "stdout",
     "output_type": "stream",
     "text": [
      "<class 'pandas.core.frame.DataFrame'>\n",
      "RangeIndex: 104 entries, 0 to 103\n",
      "Data columns (total 9 columns):\n",
      " #   Column          Non-Null Count  Dtype  \n",
      "---  ------          --------------  -----  \n",
      " 0   District        104 non-null    object \n",
      " 1   Code            104 non-null    object \n",
      " 2   Estimate        104 non-null    object \n",
      " 3   Prevalence_%    104 non-null    float64\n",
      " 4   Prevalence_LCL  104 non-null    float64\n",
      " 5   Prevalence_UCL  104 non-null    float64\n",
      " 6   NoPLHIV         104 non-null    int64  \n",
      " 7   NoPLHIV_LCL     104 non-null    int64  \n",
      " 8   NoPLHIV_UCL     104 non-null    int64  \n",
      "dtypes: float64(3), int64(3), object(3)\n",
      "memory usage: 7.4+ KB\n"
     ]
    },
    {
     "data": {
      "text/html": [
       "<div>\n",
       "<style scoped>\n",
       "    .dataframe tbody tr th:only-of-type {\n",
       "        vertical-align: middle;\n",
       "    }\n",
       "\n",
       "    .dataframe tbody tr th {\n",
       "        vertical-align: top;\n",
       "    }\n",
       "\n",
       "    .dataframe thead th {\n",
       "        text-align: right;\n",
       "    }\n",
       "</style>\n",
       "<table border=\"1\" class=\"dataframe\">\n",
       "  <thead>\n",
       "    <tr style=\"text-align: right;\">\n",
       "      <th></th>\n",
       "      <th>District</th>\n",
       "      <th>Code</th>\n",
       "      <th>Estimate</th>\n",
       "      <th>Prevalence_%</th>\n",
       "      <th>Prevalence_LCL</th>\n",
       "      <th>Prevalence_UCL</th>\n",
       "      <th>NoPLHIV</th>\n",
       "      <th>NoPLHIV_LCL</th>\n",
       "      <th>NoPLHIV_UCL</th>\n",
       "    </tr>\n",
       "  </thead>\n",
       "  <tbody>\n",
       "    <tr>\n",
       "      <th>0</th>\n",
       "      <td>Buffalo City</td>\n",
       "      <td>BUF</td>\n",
       "      <td>Survey</td>\n",
       "      <td>13.600000</td>\n",
       "      <td>10.268000</td>\n",
       "      <td>16.932000</td>\n",
       "      <td>102437</td>\n",
       "      <td>77340</td>\n",
       "      <td>127534</td>\n",
       "    </tr>\n",
       "    <tr>\n",
       "      <th>1</th>\n",
       "      <td>Buffalo City</td>\n",
       "      <td>BUF</td>\n",
       "      <td>Fay-Heriott</td>\n",
       "      <td>13.501283</td>\n",
       "      <td>11.031605</td>\n",
       "      <td>16.421802</td>\n",
       "      <td>101693</td>\n",
       "      <td>83092</td>\n",
       "      <td>123691</td>\n",
       "    </tr>\n",
       "    <tr>\n",
       "      <th>2</th>\n",
       "      <td>City of Cape Town</td>\n",
       "      <td>CPT</td>\n",
       "      <td>Survey</td>\n",
       "      <td>5.200000</td>\n",
       "      <td>3.044000</td>\n",
       "      <td>7.356000</td>\n",
       "      <td>200751</td>\n",
       "      <td>117517</td>\n",
       "      <td>283985</td>\n",
       "    </tr>\n",
       "    <tr>\n",
       "      <th>3</th>\n",
       "      <td>City of Cape Town</td>\n",
       "      <td>CPT</td>\n",
       "      <td>Fay-Heriott</td>\n",
       "      <td>6.020043</td>\n",
       "      <td>4.335072</td>\n",
       "      <td>8.303091</td>\n",
       "      <td>232409</td>\n",
       "      <td>167359</td>\n",
       "      <td>320548</td>\n",
       "    </tr>\n",
       "    <tr>\n",
       "      <th>4</th>\n",
       "      <td>West Coast</td>\n",
       "      <td>DC1</td>\n",
       "      <td>Survey</td>\n",
       "      <td>2.700000</td>\n",
       "      <td>0.000000</td>\n",
       "      <td>5.444000</td>\n",
       "      <td>11302</td>\n",
       "      <td>0</td>\n",
       "      <td>22789</td>\n",
       "    </tr>\n",
       "  </tbody>\n",
       "</table>\n",
       "</div>"
      ],
      "text/plain": [
       "            District Code     Estimate  Prevalence_%  Prevalence_LCL  \\\n",
       "0       Buffalo City  BUF       Survey     13.600000       10.268000   \n",
       "1       Buffalo City  BUF  Fay-Heriott     13.501283       11.031605   \n",
       "2  City of Cape Town  CPT       Survey      5.200000        3.044000   \n",
       "3  City of Cape Town  CPT  Fay-Heriott      6.020043        4.335072   \n",
       "4         West Coast  DC1       Survey      2.700000        0.000000   \n",
       "\n",
       "   Prevalence_UCL  NoPLHIV  NoPLHIV_LCL  NoPLHIV_UCL  \n",
       "0       16.932000   102437        77340       127534  \n",
       "1       16.421802   101693        83092       123691  \n",
       "2        7.356000   200751       117517       283985  \n",
       "3        8.303091   232409       167359       320548  \n",
       "4        5.444000    11302            0        22789  "
      ]
     },
     "execution_count": 181,
     "metadata": {},
     "output_type": "execute_result"
    }
   ],
   "source": [
    "import pandas as pd\n",
    "import numpy as np\n",
    "import matplotlib.pyplot as plt\n",
    "\n",
    "df = pd.read_excel(r\"C:\\Users\\matts\\Downloads\\pone.0212445.s004.xlsx\", header=1)\n",
    "df.info()\n",
    "df.head()"
   ]
  },
  {
   "cell_type": "code",
   "execution_count": 182,
   "id": "3b1b118c",
   "metadata": {},
   "outputs": [
    {
     "data": {
      "text/html": [
       "<div>\n",
       "<style scoped>\n",
       "    .dataframe tbody tr th:only-of-type {\n",
       "        vertical-align: middle;\n",
       "    }\n",
       "\n",
       "    .dataframe tbody tr th {\n",
       "        vertical-align: top;\n",
       "    }\n",
       "\n",
       "    .dataframe thead th {\n",
       "        text-align: right;\n",
       "    }\n",
       "</style>\n",
       "<table border=\"1\" class=\"dataframe\">\n",
       "  <thead>\n",
       "    <tr style=\"text-align: right;\">\n",
       "      <th></th>\n",
       "      <th>count</th>\n",
       "      <th>mean</th>\n",
       "      <th>std</th>\n",
       "      <th>min</th>\n",
       "      <th>25%</th>\n",
       "      <th>50%</th>\n",
       "      <th>75%</th>\n",
       "      <th>max</th>\n",
       "    </tr>\n",
       "  </thead>\n",
       "  <tbody>\n",
       "    <tr>\n",
       "      <th>Prevalence_%</th>\n",
       "      <td>104.0</td>\n",
       "      <td>12.113805</td>\n",
       "      <td>4.978586</td>\n",
       "      <td>1.584032</td>\n",
       "      <td>8.869829</td>\n",
       "      <td>11.750000</td>\n",
       "      <td>15.718785</td>\n",
       "      <td>25.000000</td>\n",
       "    </tr>\n",
       "    <tr>\n",
       "      <th>Prevalence_LCL</th>\n",
       "      <td>104.0</td>\n",
       "      <td>8.507655</td>\n",
       "      <td>4.635330</td>\n",
       "      <td>0.000000</td>\n",
       "      <td>4.911882</td>\n",
       "      <td>8.165653</td>\n",
       "      <td>11.617805</td>\n",
       "      <td>18.218028</td>\n",
       "    </tr>\n",
       "    <tr>\n",
       "      <th>Prevalence_UCL</th>\n",
       "      <td>104.0</td>\n",
       "      <td>16.142182</td>\n",
       "      <td>6.055076</td>\n",
       "      <td>2.998406</td>\n",
       "      <td>12.301325</td>\n",
       "      <td>15.935119</td>\n",
       "      <td>19.378361</td>\n",
       "      <td>40.945994</td>\n",
       "    </tr>\n",
       "    <tr>\n",
       "      <th>NoPLHIV</th>\n",
       "      <td>104.0</td>\n",
       "      <td>123914.230769</td>\n",
       "      <td>115469.372356</td>\n",
       "      <td>1876.000000</td>\n",
       "      <td>46667.500000</td>\n",
       "      <td>99751.500000</td>\n",
       "      <td>146335.500000</td>\n",
       "      <td>515387.000000</td>\n",
       "    </tr>\n",
       "    <tr>\n",
       "      <th>NoPLHIV_LCL</th>\n",
       "      <td>104.0</td>\n",
       "      <td>89210.009615</td>\n",
       "      <td>89791.909524</td>\n",
       "      <td>0.000000</td>\n",
       "      <td>28057.750000</td>\n",
       "      <td>69407.500000</td>\n",
       "      <td>115101.250000</td>\n",
       "      <td>408472.000000</td>\n",
       "    </tr>\n",
       "    <tr>\n",
       "      <th>NoPLHIV_UCL</th>\n",
       "      <td>104.0</td>\n",
       "      <td>162458.317308</td>\n",
       "      <td>145761.963447</td>\n",
       "      <td>3552.000000</td>\n",
       "      <td>68507.750000</td>\n",
       "      <td>136812.000000</td>\n",
       "      <td>181302.250000</td>\n",
       "      <td>660996.000000</td>\n",
       "    </tr>\n",
       "  </tbody>\n",
       "</table>\n",
       "</div>"
      ],
      "text/plain": [
       "                count           mean            std          min  \\\n",
       "Prevalence_%    104.0      12.113805       4.978586     1.584032   \n",
       "Prevalence_LCL  104.0       8.507655       4.635330     0.000000   \n",
       "Prevalence_UCL  104.0      16.142182       6.055076     2.998406   \n",
       "NoPLHIV         104.0  123914.230769  115469.372356  1876.000000   \n",
       "NoPLHIV_LCL     104.0   89210.009615   89791.909524     0.000000   \n",
       "NoPLHIV_UCL     104.0  162458.317308  145761.963447  3552.000000   \n",
       "\n",
       "                         25%            50%            75%            max  \n",
       "Prevalence_%        8.869829      11.750000      15.718785      25.000000  \n",
       "Prevalence_LCL      4.911882       8.165653      11.617805      18.218028  \n",
       "Prevalence_UCL     12.301325      15.935119      19.378361      40.945994  \n",
       "NoPLHIV         46667.500000   99751.500000  146335.500000  515387.000000  \n",
       "NoPLHIV_LCL     28057.750000   69407.500000  115101.250000  408472.000000  \n",
       "NoPLHIV_UCL     68507.750000  136812.000000  181302.250000  660996.000000  "
      ]
     },
     "execution_count": 182,
     "metadata": {},
     "output_type": "execute_result"
    }
   ],
   "source": [
    "df.describe().T"
   ]
  },
  {
   "cell_type": "markdown",
   "id": "6fdba645",
   "metadata": {},
   "source": [
    "### Question 2a"
   ]
  },
  {
   "cell_type": "code",
   "execution_count": 183,
   "id": "2a5fee01",
   "metadata": {},
   "outputs": [
    {
     "name": "stdout",
     "output_type": "stream",
     "text": [
      "                      District  NoPLHIV\n",
      "0                 Buffalo City   102437\n",
      "2            City of Cape Town   200751\n",
      "4                   West Coast    11302\n",
      "6                       Cacadu    34732\n",
      "8                      Amatole    98884\n",
      "10                  Chris Hani   114849\n",
      "12                   Joe Gqabi    37766\n",
      "14                  O.R. Tambo   160352\n",
      "16                     Xhariep    11777\n",
      "18               Lejweleputswa   123868\n",
      "20          Thabo Mofutsanyana   115006\n",
      "22              Cape Winelands    30706\n",
      "24                 Fezile Dabi    45550\n",
      "26                         Ugu   142979\n",
      "28               uMgungundlovu   221073\n",
      "30                    uThukela   118124\n",
      "32                  uMzinyathi    93587\n",
      "34                     Amajuba    82210\n",
      "36                    Zululand   171411\n",
      "38                uMkhanyakude    86131\n",
      "40                   uThungulu   162238\n",
      "42                      iLembe    78178\n",
      "44                    Overberg    17039\n",
      "46                Gert Sibande   208067\n",
      "48                    Nkangala   126270\n",
      "50                   Ehlanzeni   281104\n",
      "52                      Mopani    87968\n",
      "54                      Vhembe    70373\n",
      "56                   Capricorn   116351\n",
      "58                   Waterberg    71577\n",
      "60           Bojanala Platinum   212904\n",
      "62         Ngaka Modiri Molema   117661\n",
      "64   Dr Ruth Segomotsi Mompati    51450\n",
      "66                        Eden    25191\n",
      "68           Dr Kenneth Kaunda   102584\n",
      "70                    Sedibeng   197713\n",
      "72                     Sisonke    99572\n",
      "74                  Alfred Nzo   104363\n",
      "76         John Taolo Gaetsewe    20323\n",
      "78                  Sekhukhune    77489\n",
      "80                   West Rand    60313\n",
      "82               Central Karoo    17808\n",
      "84                     Namakwa     3317\n",
      "86              Pixley ka Seme     9501\n",
      "88                     Siyanda    13673\n",
      "90               Frances Baard    47040\n",
      "92                  Ekurhuleni   462059\n",
      "94                   eThekwini   502310\n",
      "96        City of Johannesburg   515387\n",
      "98                    Mangaung    87676\n",
      "100   Nelson Mandela Bay Metro    97459\n",
      "102            City of Tshwane   361450\n"
     ]
    }
   ],
   "source": [
    "tmp=df[df['Estimate']=='Survey'][['District','NoPLHIV']] \n",
    "print(tmp)"
   ]
  },
  {
   "cell_type": "code",
   "execution_count": 184,
   "id": "79fe18ba",
   "metadata": {},
   "outputs": [
    {
     "data": {
      "image/png": "[encoded data removed]",
      "text/plain": [
       "<Figure size 720x1296 with 1 Axes>"
      ]
     },
     "metadata": {
      "needs_background": "light"
     },
     "output_type": "display_data"
    }
   ],
   "source": [
    "tmp.sort_values(by='NoPLHIV').plot.barh(x='District', y='NoPLHIV',figsize=(10, 18))\n",
    "plt.title('Total number of people with HIV per District (Estimate=Survey)')\n",
    "plt.xlabel('NoPLHIV')\n",
    "plt.legend().remove()\n",
    "plt.grid()\n",
    "plt.show()"
   ]
  },
  {
   "cell_type": "markdown",
   "id": "b79dc571",
   "metadata": {},
   "source": [
    "### Question 2b"
   ]
  },
  {
   "cell_type": "code",
   "execution_count": 185,
   "id": "1a4bb4af",
   "metadata": {},
   "outputs": [
    {
     "name": "stdout",
     "output_type": "stream",
     "text": [
      "Average NoPLHIV for Xhariep:  12247.5\n"
     ]
    }
   ],
   "source": [
    "print('Average NoPLHIV for Xhariep: ', df[df['District']=='Xhariep']['NoPLHIV'].mean())"
   ]
  },
  {
   "cell_type": "markdown",
   "id": "4fbe3378",
   "metadata": {},
   "source": [
    "### Question 2c"
   ]
  },
  {
   "cell_type": "markdown",
   "id": "95c1cac8",
   "metadata": {},
   "source": [
    "Total_people_in_district=(NoPLHIV*100)/Prevalence_%\n",
    "\n",
    "People_without_HIV = Total_people_in_district*((100-Prevalence_%)/100)"
   ]
  },
  {
   "cell_type": "code",
   "execution_count": 186,
   "id": "49c1d563",
   "metadata": {},
   "outputs": [],
   "source": [
    "pl_without_HIV=[]\n",
    "\n",
    "for index, row in df.iterrows():\n",
    "    total_pl=(row['NoPLHIV']*100)/row['Prevalence_%']\n",
    "    pl_without_HIV.append(total_pl*((100-row['Prevalence_%'])/100))\n",
    "    \n",
    "df['pl_without_HIV']=pl_without_HIV"
   ]
  },
  {
   "cell_type": "code",
   "execution_count": 187,
   "id": "dbb6b2e3",
   "metadata": {},
   "outputs": [
    {
     "data": {
      "text/html": [
       "<div>\n",
       "<style scoped>\n",
       "    .dataframe tbody tr th:only-of-type {\n",
       "        vertical-align: middle;\n",
       "    }\n",
       "\n",
       "    .dataframe tbody tr th {\n",
       "        vertical-align: top;\n",
       "    }\n",
       "\n",
       "    .dataframe thead th {\n",
       "        text-align: right;\n",
       "    }\n",
       "</style>\n",
       "<table border=\"1\" class=\"dataframe\">\n",
       "  <thead>\n",
       "    <tr style=\"text-align: right;\">\n",
       "      <th></th>\n",
       "      <th>District</th>\n",
       "      <th>Code</th>\n",
       "      <th>Estimate</th>\n",
       "      <th>Prevalence_%</th>\n",
       "      <th>Prevalence_LCL</th>\n",
       "      <th>Prevalence_UCL</th>\n",
       "      <th>NoPLHIV</th>\n",
       "      <th>NoPLHIV_LCL</th>\n",
       "      <th>NoPLHIV_UCL</th>\n",
       "      <th>pl_without_HIV</th>\n",
       "    </tr>\n",
       "  </thead>\n",
       "  <tbody>\n",
       "    <tr>\n",
       "      <th>0</th>\n",
       "      <td>Buffalo City</td>\n",
       "      <td>BUF</td>\n",
       "      <td>Survey</td>\n",
       "      <td>13.600000</td>\n",
       "      <td>10.268000</td>\n",
       "      <td>16.932000</td>\n",
       "      <td>102437</td>\n",
       "      <td>77340</td>\n",
       "      <td>127534</td>\n",
       "      <td>6.507762e+05</td>\n",
       "    </tr>\n",
       "    <tr>\n",
       "      <th>1</th>\n",
       "      <td>Buffalo City</td>\n",
       "      <td>BUF</td>\n",
       "      <td>Fay-Heriott</td>\n",
       "      <td>13.501283</td>\n",
       "      <td>11.031605</td>\n",
       "      <td>16.421802</td>\n",
       "      <td>101693</td>\n",
       "      <td>83092</td>\n",
       "      <td>123691</td>\n",
       "      <td>6.515169e+05</td>\n",
       "    </tr>\n",
       "    <tr>\n",
       "      <th>2</th>\n",
       "      <td>City of Cape Town</td>\n",
       "      <td>CPT</td>\n",
       "      <td>Survey</td>\n",
       "      <td>5.200000</td>\n",
       "      <td>3.044000</td>\n",
       "      <td>7.356000</td>\n",
       "      <td>200751</td>\n",
       "      <td>117517</td>\n",
       "      <td>283985</td>\n",
       "      <td>3.659845e+06</td>\n",
       "    </tr>\n",
       "    <tr>\n",
       "      <th>3</th>\n",
       "      <td>City of Cape Town</td>\n",
       "      <td>CPT</td>\n",
       "      <td>Fay-Heriott</td>\n",
       "      <td>6.020043</td>\n",
       "      <td>4.335072</td>\n",
       "      <td>8.303091</td>\n",
       "      <td>232409</td>\n",
       "      <td>167359</td>\n",
       "      <td>320548</td>\n",
       "      <td>3.628178e+06</td>\n",
       "    </tr>\n",
       "    <tr>\n",
       "      <th>4</th>\n",
       "      <td>West Coast</td>\n",
       "      <td>DC1</td>\n",
       "      <td>Survey</td>\n",
       "      <td>2.700000</td>\n",
       "      <td>0.000000</td>\n",
       "      <td>5.444000</td>\n",
       "      <td>11302</td>\n",
       "      <td>0</td>\n",
       "      <td>22789</td>\n",
       "      <td>4.072906e+05</td>\n",
       "    </tr>\n",
       "  </tbody>\n",
       "</table>\n",
       "</div>"
      ],
      "text/plain": [
       "            District Code     Estimate  Prevalence_%  Prevalence_LCL  \\\n",
       "0       Buffalo City  BUF       Survey     13.600000       10.268000   \n",
       "1       Buffalo City  BUF  Fay-Heriott     13.501283       11.031605   \n",
       "2  City of Cape Town  CPT       Survey      5.200000        3.044000   \n",
       "3  City of Cape Town  CPT  Fay-Heriott      6.020043        4.335072   \n",
       "4         West Coast  DC1       Survey      2.700000        0.000000   \n",
       "\n",
       "   Prevalence_UCL  NoPLHIV  NoPLHIV_LCL  NoPLHIV_UCL  pl_without_HIV  \n",
       "0       16.932000   102437        77340       127534    6.507762e+05  \n",
       "1       16.421802   101693        83092       123691    6.515169e+05  \n",
       "2        7.356000   200751       117517       283985    3.659845e+06  \n",
       "3        8.303091   232409       167359       320548    3.628178e+06  \n",
       "4        5.444000    11302            0        22789    4.072906e+05  "
      ]
     },
     "execution_count": 187,
     "metadata": {},
     "output_type": "execute_result"
    }
   ],
   "source": [
    "df.head()"
   ]
  },
  {
   "cell_type": "markdown",
   "id": "8a1d6ec7",
   "metadata": {},
   "source": [
    "### Question 2d"
   ]
  },
  {
   "cell_type": "code",
   "execution_count": 188,
   "id": "d4430d85",
   "metadata": {},
   "outputs": [
    {
     "name": "stdout",
     "output_type": "stream",
     "text": [
      "                     District     Estimate  NoPLHIV\n",
      "0                buffalo city       Survey   102437\n",
      "1                buffalo city  Fay-Heriott   101693\n",
      "2           city of cape town       Survey   200751\n",
      "3           city of cape town  Fay-Heriott   232409\n",
      "96       city of johannesburg       Survey   515387\n",
      "97       city of johannesburg  Fay-Heriott   514241\n",
      "100  nelson mandela bay metro       Survey    97459\n",
      "101  nelson mandela bay metro  Fay-Heriott   106313\n",
      "102           city of tshwane       Survey   361450\n",
      "103           city of tshwane  Fay-Heriott   340593\n"
     ]
    }
   ],
   "source": [
    "df['District']=df['District'].str.lower() # contains() function is case sensitive,therefore all district names are changed to lower-case\n",
    "tmp_df=df[df['District'].str.contains('city') | df['District'].str.contains('metro')][['District','Estimate','NoPLHIV']]\n",
    "print(tmp_df)"
   ]
  },
  {
   "cell_type": "markdown",
   "id": "5e688c1e",
   "metadata": {},
   "source": [
    "### Question 3"
   ]
  },
  {
   "cell_type": "code",
   "execution_count": 189,
   "id": "dd4cdf00",
   "metadata": {},
   "outputs": [],
   "source": [
    "df.columns=df.columns.str.replace('[^a-zA-Z]', '', regex=True)"
   ]
  },
  {
   "cell_type": "code",
   "execution_count": 190,
   "id": "0ff0ab1b",
   "metadata": {},
   "outputs": [
    {
     "data": {
      "text/html": [
       "<div>\n",
       "<style scoped>\n",
       "    .dataframe tbody tr th:only-of-type {\n",
       "        vertical-align: middle;\n",
       "    }\n",
       "\n",
       "    .dataframe tbody tr th {\n",
       "        vertical-align: top;\n",
       "    }\n",
       "\n",
       "    .dataframe thead th {\n",
       "        text-align: right;\n",
       "    }\n",
       "</style>\n",
       "<table border=\"1\" class=\"dataframe\">\n",
       "  <thead>\n",
       "    <tr style=\"text-align: right;\">\n",
       "      <th></th>\n",
       "      <th>District</th>\n",
       "      <th>Code</th>\n",
       "      <th>Estimate</th>\n",
       "      <th>Prevalence</th>\n",
       "      <th>PrevalenceLCL</th>\n",
       "      <th>PrevalenceUCL</th>\n",
       "      <th>NoPLHIV</th>\n",
       "      <th>NoPLHIVLCL</th>\n",
       "      <th>NoPLHIVUCL</th>\n",
       "      <th>plwithoutHIV</th>\n",
       "    </tr>\n",
       "  </thead>\n",
       "  <tbody>\n",
       "    <tr>\n",
       "      <th>0</th>\n",
       "      <td>buffalo city</td>\n",
       "      <td>BUF</td>\n",
       "      <td>Survey</td>\n",
       "      <td>13.600000</td>\n",
       "      <td>10.268000</td>\n",
       "      <td>16.932000</td>\n",
       "      <td>102437</td>\n",
       "      <td>77340</td>\n",
       "      <td>127534</td>\n",
       "      <td>6.507762e+05</td>\n",
       "    </tr>\n",
       "    <tr>\n",
       "      <th>1</th>\n",
       "      <td>buffalo city</td>\n",
       "      <td>BUF</td>\n",
       "      <td>Fay-Heriott</td>\n",
       "      <td>13.501283</td>\n",
       "      <td>11.031605</td>\n",
       "      <td>16.421802</td>\n",
       "      <td>101693</td>\n",
       "      <td>83092</td>\n",
       "      <td>123691</td>\n",
       "      <td>6.515169e+05</td>\n",
       "    </tr>\n",
       "    <tr>\n",
       "      <th>2</th>\n",
       "      <td>city of cape town</td>\n",
       "      <td>CPT</td>\n",
       "      <td>Survey</td>\n",
       "      <td>5.200000</td>\n",
       "      <td>3.044000</td>\n",
       "      <td>7.356000</td>\n",
       "      <td>200751</td>\n",
       "      <td>117517</td>\n",
       "      <td>283985</td>\n",
       "      <td>3.659845e+06</td>\n",
       "    </tr>\n",
       "    <tr>\n",
       "      <th>3</th>\n",
       "      <td>city of cape town</td>\n",
       "      <td>CPT</td>\n",
       "      <td>Fay-Heriott</td>\n",
       "      <td>6.020043</td>\n",
       "      <td>4.335072</td>\n",
       "      <td>8.303091</td>\n",
       "      <td>232409</td>\n",
       "      <td>167359</td>\n",
       "      <td>320548</td>\n",
       "      <td>3.628178e+06</td>\n",
       "    </tr>\n",
       "    <tr>\n",
       "      <th>4</th>\n",
       "      <td>west coast</td>\n",
       "      <td>DC1</td>\n",
       "      <td>Survey</td>\n",
       "      <td>2.700000</td>\n",
       "      <td>0.000000</td>\n",
       "      <td>5.444000</td>\n",
       "      <td>11302</td>\n",
       "      <td>0</td>\n",
       "      <td>22789</td>\n",
       "      <td>4.072906e+05</td>\n",
       "    </tr>\n",
       "  </tbody>\n",
       "</table>\n",
       "</div>"
      ],
      "text/plain": [
       "            District Code     Estimate  Prevalence  PrevalenceLCL  \\\n",
       "0       buffalo city  BUF       Survey   13.600000      10.268000   \n",
       "1       buffalo city  BUF  Fay-Heriott   13.501283      11.031605   \n",
       "2  city of cape town  CPT       Survey    5.200000       3.044000   \n",
       "3  city of cape town  CPT  Fay-Heriott    6.020043       4.335072   \n",
       "4         west coast  DC1       Survey    2.700000       0.000000   \n",
       "\n",
       "   PrevalenceUCL  NoPLHIV  NoPLHIVLCL  NoPLHIVUCL  plwithoutHIV  \n",
       "0      16.932000   102437       77340      127534  6.507762e+05  \n",
       "1      16.421802   101693       83092      123691  6.515169e+05  \n",
       "2       7.356000   200751      117517      283985  3.659845e+06  \n",
       "3       8.303091   232409      167359      320548  3.628178e+06  \n",
       "4       5.444000    11302           0       22789  4.072906e+05  "
      ]
     },
     "execution_count": 190,
     "metadata": {},
     "output_type": "execute_result"
    }
   ],
   "source": [
    "df.head()"
   ]
  },
  {
   "cell_type": "markdown",
   "id": "ce792bb1",
   "metadata": {},
   "source": [
    "### Question 4"
   ]
  },
  {
   "cell_type": "code",
   "execution_count": 191,
   "id": "09b0194e",
   "metadata": {},
   "outputs": [
    {
     "data": {
      "image/png": "[encoded data removed]",
      "text/plain": [
       "<Figure size 720x720 with 1 Axes>"
      ]
     },
     "metadata": {
      "needs_background": "light"
     },
     "output_type": "display_data"
    }
   ],
   "source": [
    "cntr=0\n",
    "y_tick_names=[]\n",
    "fig = plt.figure(figsize=(10, 10))\n",
    "df_fh=df[df['Estimate']=='Fay-Heriott']\n",
    "\n",
    "for index, row in df_fh.iterrows():\n",
    "    if (row['District'][-1]=='i'):\n",
    "        plt.plot([row['PrevalenceLCL'],row['PrevalenceUCL']],[cntr,cntr],'o-', color='orange')\n",
    "        plt.plot(row['Prevalence'],cntr,'x', color='orange')\n",
    "        y_tick_names.append(row['District'])\n",
    "        cntr=cntr+1\n",
    "        \n",
    "plt.yticks(range(cntr),y_tick_names, fontsize=12)\n",
    "plt.xlabel('Prevalence', fontsize=12)\n",
    "plt.ylabel('District', fontsize=12)\n",
    "plt.title('Prevalence confidence intervals for Districts ending with *i* \\n (Estimate=Fay-Heriott)',fontsize=14)\n",
    "plt.grid()\n",
    "plt.show()"
   ]
  },
  {
   "cell_type": "markdown",
   "id": "5eca7570",
   "metadata": {},
   "source": [
    "Time spent on assignment was approximately 1hr45min."
   ]
  }
 ],
 "metadata": {
  "kernelspec": {
   "display_name": "Python 3 (ipykernel)",
   "language": "python",
   "name": "python3"
  },
  "language_info": {
   "codemirror_mode": {
    "name": "ipython",
    "version": 3
   },
   "file_extension": ".py",
   "mimetype": "text/x-python",
   "name": "python",
   "nbconvert_exporter": "python",
   "pygments_lexer": "ipython3",
   "version": "3.9.7"
  }
 },
 "nbformat": 4,
 "nbformat_minor": 5
}
